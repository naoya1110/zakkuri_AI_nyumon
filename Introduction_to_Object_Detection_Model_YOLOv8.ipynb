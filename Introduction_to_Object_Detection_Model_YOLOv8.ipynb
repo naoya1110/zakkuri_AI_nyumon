{
  "nbformat": 4,
  "nbformat_minor": 0,
  "metadata": {
    "colab": {
      "provenance": [],
      "toc_visible": true,
      "gpuType": "T4",
      "authorship_tag": "ABX9TyOXCb7SdmzLuIDrdIPMqYos",
      "include_colab_link": true
    },
    "kernelspec": {
      "name": "python3",
      "display_name": "Python 3"
    },
    "language_info": {
      "name": "python"
    },
    "accelerator": "GPU"
  },
  "cells": [
    {
      "cell_type": "markdown",
      "metadata": {
        "id": "view-in-github",
        "colab_type": "text"
      },
      "source": [
        "<a href=\"https://colab.research.google.com/github/naoya1110/zakkuri_AI_nyumon/blob/main/Introduction_to_Object_Detection_Model_YOLOv8.ipynb\" target=\"_parent\"><img src=\"https://colab.research.google.com/assets/colab-badge.svg\" alt=\"Open In Colab\"/></a>"
      ]
    },
    {
      "cell_type": "markdown",
      "source": [
        "# 物体検出モデル超ざっくり入門"
      ],
      "metadata": {
        "id": "vcm9yqKhQ33a"
      }
    },
    {
      "cell_type": "markdown",
      "source": [
        "## YOLOv8のセットアップ\n",
        "物体検出モデルYOLOシリーズの最新版YOLOv8をインストールします。"
      ],
      "metadata": {
        "id": "0W2cSWeZRBzM"
      }
    },
    {
      "cell_type": "code",
      "execution_count": null,
      "metadata": {
        "id": "_RBalB9DImLN"
      },
      "outputs": [],
      "source": [
        "%pip install ultralytics\n",
        "import ultralytics\n",
        "ultralytics.checks()"
      ]
    },
    {
      "cell_type": "markdown",
      "source": [
        "## パッケージのインポート\n",
        "必要なパッケージをインポートします。"
      ],
      "metadata": {
        "id": "QRL6afErWKVq"
      }
    },
    {
      "cell_type": "code",
      "source": [
        "from ultralytics import YOLO\n",
        "import cv2\n",
        "import matplotlib.pyplot as plt"
      ],
      "metadata": {
        "id": "mVb9me2dJJnF"
      },
      "execution_count": null,
      "outputs": []
    },
    {
      "cell_type": "markdown",
      "source": [
        "## サンプル画像\n",
        "サンプル画像をダウンロードします。"
      ],
      "metadata": {
        "id": "vgFb3xK7WP2I"
      }
    },
    {
      "cell_type": "code",
      "source": [
        "!wget https://ultralytics.com/images/zidane.jpg"
      ],
      "metadata": {
        "id": "4WEQ9-ZJL_jK"
      },
      "execution_count": null,
      "outputs": []
    },
    {
      "cell_type": "markdown",
      "source": [
        "ダウンロードした画像を表示してみましょう。"
      ],
      "metadata": {
        "id": "xpGe7AdCWdGP"
      }
    },
    {
      "cell_type": "code",
      "source": [
        "img = cv2.imread(\"zidane.jpg\")\n",
        "img = cv2.cvtColor(img, cv2.COLOR_BGR2RGB)\n",
        "plt.imshow(img)"
      ],
      "metadata": {
        "id": "uVL4nEWxLmiR"
      },
      "execution_count": null,
      "outputs": []
    },
    {
      "cell_type": "markdown",
      "source": [
        "## YOLOv8を使った物体検出\n"
      ],
      "metadata": {
        "id": "0OgwnXFrWhAC"
      }
    },
    {
      "cell_type": "markdown",
      "source": [
        "### 学習済みモデルの読み込み\n",
        "COCOデータセットで学習されたYOLOv8のモデルを読み込みます。YOLOv8にもいくつかの種類があります。詳しくは以下のリンクを参照してください。\n",
        "\n",
        "https://github.com/ultralytics/ultralytics#models"
      ],
      "metadata": {
        "id": "diBlX3LEWyr4"
      }
    },
    {
      "cell_type": "code",
      "source": [
        "# Load a model\n",
        "model = YOLO(\"yolov8n.pt\")  # load a pretrained model (recommended for training)"
      ],
      "metadata": {
        "id": "86LtCxHqJMEr"
      },
      "execution_count": null,
      "outputs": []
    },
    {
      "cell_type": "markdown",
      "source": [
        "### 物体検出\n",
        "学習済みモデルを使って物体検出（推論）します。"
      ],
      "metadata": {
        "id": "MvGMnSBbYePg"
      }
    },
    {
      "cell_type": "code",
      "source": [
        "# Predict on an image\n",
        "results = model(\"zidane.jpg\", save=True)  # predict on an image"
      ],
      "metadata": {
        "id": "8atk5PvhI2d8"
      },
      "execution_count": null,
      "outputs": []
    },
    {
      "cell_type": "markdown",
      "source": [
        "物体検出の結果画像は`runs/detect/predict`に保存されています。これを表示してみましょう。"
      ],
      "metadata": {
        "id": "eFR4vw4iZXwK"
      }
    },
    {
      "cell_type": "code",
      "source": [
        "img = cv2.imread(\"runs/detect/predict/zidane.jpg\")\n",
        "img = cv2.cvtColor(img, cv2.COLOR_BGR2RGB)\n",
        "plt.imshow(img)"
      ],
      "metadata": {
        "id": "QwB25ecxMr0u"
      },
      "execution_count": null,
      "outputs": []
    },
    {
      "cell_type": "markdown",
      "source": [
        "### 検出結果の処理\n",
        "検出結果は`results`に保存されています。この中から必要な情報を抜き出します。"
      ],
      "metadata": {
        "id": "JS0Il2m3M4hJ"
      }
    },
    {
      "cell_type": "code",
      "source": [
        "detections = results[0].boxes.data\n",
        "detections = detections.to(\"cpu\").numpy()\n",
        "detections"
      ],
      "metadata": {
        "id": "-ysvNZwGJWoV"
      },
      "execution_count": null,
      "outputs": []
    },
    {
      "cell_type": "markdown",
      "source": [
        "`detections`は`n`行6列のNumpy配列です。ここで`n`は検出された物体の数です。各行には個々の物体に対するデータが以下のように入っています。\n",
        "\n",
        "```\n",
        "[left, top, right, bottom, confidence, class_id]\n",
        "\n",
        "# left: 左端の座標\n",
        "# top: 上端の座標\n",
        "# right: 右端の座標\n",
        "# bottom: 下端の座標\n",
        "# conf: 予測されたクラスの信頼度\n",
        "# class_id: 予測されたクラスのID\n",
        "```\n"
      ],
      "metadata": {
        "id": "K9QaxBxjafSB"
      }
    },
    {
      "cell_type": "markdown",
      "source": [
        "クラスIDとクラス名の関係は次のようになっています。"
      ],
      "metadata": {
        "id": "6-j1ilU0bjop"
      }
    },
    {
      "cell_type": "code",
      "source": [
        "classnames = results[0].names\n",
        "classnames"
      ],
      "metadata": {
        "id": "Ajw9rUPoJnYZ"
      },
      "execution_count": null,
      "outputs": []
    },
    {
      "cell_type": "markdown",
      "source": [
        "`detections`のデータを使って検出結果を描画してみましょう。"
      ],
      "metadata": {
        "id": "64e1xjLScH3v"
      }
    },
    {
      "cell_type": "code",
      "source": [
        "### 検出結果の整理\n",
        "det = detections[0]    # 1つ目の検出結果を取得\n",
        "left, top, right, bottom, conf, id = det    # 座標，信頼度, クラスIDを取得\n",
        "classname = classnames[int(id)]    # クラスIDからクラス名に変換\n",
        "\n",
        "### 元の画像を読み込み\n",
        "img = cv2.imread(\"zidane.jpg\")\n",
        "\n",
        "### 枠(バウンディングボックス)を描画\n",
        "img = cv2.rectangle(img,\n",
        "                    pt1 = (int(left), int(top)),\n",
        "                    pt2 = (int(right), int(bottom)),\n",
        "                    color = (0,255,0),\n",
        "                    thickness = 3,\n",
        "                    lineType = cv2.LINE_AA)\n",
        "\n",
        "### テキストを描画\n",
        "cv2.putText(img,\n",
        "            text = f\"{classname} {conf:.2f}\",\n",
        "            org = (int(left), int(top)-15),\n",
        "            fontFace = cv2.FONT_HERSHEY_SIMPLEX,\n",
        "            fontScale = 1.5,\n",
        "            color = (0, 255, 0),\n",
        "            thickness = 3,\n",
        "            lineType = cv2.LINE_AA)\n",
        "\n",
        "\n",
        "img = cv2.cvtColor(img, cv2.COLOR_BGR2RGB)\n",
        "plt.imshow(img)"
      ],
      "metadata": {
        "id": "cycFLGq0KIjV"
      },
      "execution_count": null,
      "outputs": []
    },
    {
      "cell_type": "markdown",
      "source": [
        "### いろいろ検出してみましょう\n",
        "Webカメラを使って写真を撮ります。"
      ],
      "metadata": {
        "id": "K_NWRoJHemtN"
      }
    },
    {
      "cell_type": "code",
      "source": [
        "from IPython.display import display, Javascript\n",
        "from google.colab.output import eval_js\n",
        "from base64 import b64decode\n",
        "from IPython.display import Image\n",
        "\n",
        "def take_photo(filename='photo.jpg', quality=0.8):\n",
        "    js = Javascript('''\n",
        "        async function takePhoto(quality) {\n",
        "            const div = document.createElement('div');\n",
        "            const capture = document.createElement('button');\n",
        "            capture.textContent = 'Capture';\n",
        "            div.appendChild(capture);\n",
        "\n",
        "            const video = document.createElement('video');\n",
        "            video.style.display = 'block';\n",
        "            const stream = await navigator.mediaDevices.getUserMedia({video: true});\n",
        "\n",
        "            document.body.appendChild(div);\n",
        "            div.appendChild(video);\n",
        "            video.srcObject = stream;\n",
        "            await video.play();\n",
        "\n",
        "            // Resize the output to fit the video element.\n",
        "            google.colab.output.setIframeHeight(document.documentElement.scrollHeight, true);\n",
        "\n",
        "            // Wait for Capture to be clicked.\n",
        "            await new Promise((resolve) => capture.onclick = resolve);\n",
        "\n",
        "            const canvas = document.createElement('canvas');\n",
        "            canvas.width = video.videoWidth;\n",
        "            canvas.height = video.videoHeight;\n",
        "            canvas.getContext('2d').drawImage(video, 0, 0);\n",
        "            stream.getVideoTracks()[0].stop();\n",
        "            div.remove();\n",
        "            return canvas.toDataURL('image/jpeg', quality);\n",
        "        }\n",
        "        ''')\n",
        "    \n",
        "    display(js)\n",
        "    data = eval_js('takePhoto({})'.format(quality))\n",
        "    binary = b64decode(data.split(',')[1])\n",
        "\n",
        "    with open(filename, 'wb') as f:\n",
        "        f.write(binary)\n",
        "        return filename\n",
        "\n",
        "try:\n",
        "    filename = take_photo()\n",
        "    print('Saved to {}'.format(filename))\n",
        "\n",
        "    # Show the image which was just taken.\n",
        "    display(Image(filename))\n",
        "    \n",
        "except Exception as err:\n",
        "    # Errors will be thrown if the user does not have a webcam or if they do not\n",
        "    # grant the page permission to access it.\n",
        "    print(str(err))"
      ],
      "metadata": {
        "id": "jd5a3sSCdGKz"
      },
      "execution_count": null,
      "outputs": []
    },
    {
      "cell_type": "markdown",
      "source": [
        "写真は`photo.jpg`に保存されています。推論してみましょう。"
      ],
      "metadata": {
        "id": "fcYjTifXeuy9"
      }
    },
    {
      "cell_type": "code",
      "source": [
        "# 推論\n",
        "results = model(\"photo.jpg\", save=True)\n",
        "\n",
        "# 結果の表示\n",
        "img = cv2.imread(\"runs/detect/predict/photo.jpg\")\n",
        "img = cv2.cvtColor(img, cv2.COLOR_BGR2RGB)\n",
        "plt.imshow(img)"
      ],
      "metadata": {
        "id": "p3StjIYmdVdJ"
      },
      "execution_count": null,
      "outputs": []
    }
  ]
}