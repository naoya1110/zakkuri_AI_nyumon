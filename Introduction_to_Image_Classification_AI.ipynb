{
  "nbformat": 4,
  "nbformat_minor": 0,
  "metadata": {
    "colab": {
      "provenance": [],
      "include_colab_link": true
    },
    "kernelspec": {
      "name": "python3",
      "display_name": "Python 3"
    },
    "language_info": {
      "name": "python"
    },
    "accelerator": "GPU"
  },
  "cells": [
    {
      "cell_type": "markdown",
      "metadata": {
        "id": "view-in-github",
        "colab_type": "text"
      },
      "source": [
        "<a href=\"https://colab.research.google.com/github/naoya1110/zakkuri_AI_nyumon/blob/main/Introduction_to_Image_Classification_AI.ipynb\" target=\"_parent\"><img src=\"https://colab.research.google.com/assets/colab-badge.svg\" alt=\"Open In Colab\"/></a>"
      ]
    },
    {
      "cell_type": "markdown",
      "metadata": {
        "id": "chn-ztb-9JoV"
      },
      "source": [
        "# 画像分類AI超ざっくり入門"
      ]
    },
    {
      "cell_type": "markdown",
      "metadata": {
        "id": "vPlzxYAbJQmc"
      },
      "source": [
        "## はじめに/Introduction\n",
        "うどんの写真からどこのうどん屋か当てる画像分類AIを作ってみましょう。"
      ]
    },
    {
      "cell_type": "markdown",
      "source": [
        "### PyTorch\n",
        "DLフレームワークのPyTorchを使います。"
      ],
      "metadata": {
        "id": "Qzb0dIdV5BRe"
      }
    },
    {
      "cell_type": "code",
      "source": [
        "import torch\n",
        "torch.__version__"
      ],
      "metadata": {
        "id": "uTg92eo25JTy"
      },
      "execution_count": null,
      "outputs": []
    },
    {
      "cell_type": "markdown",
      "metadata": {
        "id": "VYw3uTxyQMFq"
      },
      "source": [
        "### GPU\n",
        "\n",
        "GPUが使える状態であることを確認します。"
      ]
    },
    {
      "cell_type": "code",
      "metadata": {
        "id": "LlOLjP7qjakr"
      },
      "source": [
        "import torch\n",
        "\n",
        "if torch.cuda.is_available():\n",
        "    device = \"cuda\"\n",
        "else:\n",
        "    device = \"cpu\"\n",
        "\n",
        "print(device)"
      ],
      "execution_count": null,
      "outputs": []
    },
    {
      "cell_type": "markdown",
      "metadata": {
        "id": "4r6qw_6s_hyU"
      },
      "source": [
        "### 基本のPythonパッケージ\n",
        "\n",
        "必要なPythonパッケージをインポートします。"
      ]
    },
    {
      "cell_type": "code",
      "metadata": {
        "id": "uBE01BMv7DVI"
      },
      "source": [
        "import numpy as np\n",
        "import pandas as pd\n",
        "import matplotlib.pyplot as plt\n",
        "import seaborn as sns\n",
        "from tqdm.notebook import tqdm\n",
        "import os\n",
        "import gdown\n",
        "import random\n",
        "import shutil"
      ],
      "execution_count": null,
      "outputs": []
    },
    {
      "cell_type": "markdown",
      "metadata": {
        "id": "ZX-bp6XjJSdL"
      },
      "source": [
        "## データの準備/Data Preperation"
      ]
    },
    {
      "cell_type": "markdown",
      "metadata": {
        "id": "VWFrZgRIWBB2"
      },
      "source": [
        "### udon_dataset_20.zipのダウンロード\n",
        "\n",
        "以下のセルを実行することでudon_dataset_20.zipがダウンロードされます。"
      ]
    },
    {
      "cell_type": "code",
      "source": [
        "gdown.download('https://drive.google.com/uc?id=1exNFrdqACLRf8yBhDBDEY-5pAUXXXvrI', 'udon_dataset_20.zip', quiet = False)"
      ],
      "metadata": {
        "id": "Z4U3yzJ38fEA"
      },
      "execution_count": null,
      "outputs": []
    },
    {
      "cell_type": "markdown",
      "source": [
        "### udon_dataset_20.zipの解凍と不要なデータの削除"
      ],
      "metadata": {
        "id": "cDqaCOjvueUe"
      }
    },
    {
      "cell_type": "code",
      "source": [
        "N = 3 # うどん屋の数 2-20の値\n",
        "\n",
        "dataset_dir = \"udon_dataset_20\"\n",
        "\n",
        "if os.path.exists(dataset_dir):\n",
        "    shutil.rmtree(dataset_dir)\n",
        "    \n",
        "! unzip udon_dataset_20.zip > /dev/null 2>&1\n",
        "\n",
        "for subdir in [\"train\", \"test\"]:\n",
        "    subsubdirs = sorted(os.listdir(os.path.join(dataset_dir, subdir)))\n",
        "    for subsubdir in subsubdirs[N:]:\n",
        "        shutil.rmtree(os.path.join(dataset_dir, subdir, subsubdir))\n"
      ],
      "metadata": {
        "id": "An3BsQRqt4En"
      },
      "execution_count": null,
      "outputs": []
    },
    {
      "cell_type": "markdown",
      "metadata": {
        "id": "82pgQW46yZxD"
      },
      "source": [
        "udon_dataset_20に含まれるデータの数を見てみましょう。"
      ]
    },
    {
      "cell_type": "code",
      "source": [
        "for subdir in [\"train\", \"test\"]:\n",
        "    print(subdir)\n",
        "    subsubdirs = sorted(os.listdir(os.path.join(dataset_dir, subdir)))\n",
        "    for subsubdir in subsubdirs:\n",
        "        filenames = os.listdir(os.path.join(dataset_dir, subdir, subsubdir))\n",
        "        print(\"---\", subsubdir, \":\", len(filenames))"
      ],
      "metadata": {
        "id": "Nyu7NkM2GeuE"
      },
      "execution_count": null,
      "outputs": []
    },
    {
      "cell_type": "markdown",
      "metadata": {
        "id": "87A0sMVqwmEz"
      },
      "source": [
        "### Datasetオブジェクトの作成/Create Dataset Objects\n",
        "以下のセルを実行し学習用とテスト用のDatasetオブジェクトを作成します。"
      ]
    },
    {
      "cell_type": "code",
      "metadata": {
        "id": "DaWvCMuyXB18"
      },
      "source": [
        "from torchvision.datasets import ImageFolder\n",
        "\n",
        "train_dataset = ImageFolder(root=f\"{dataset_dir}/train\")\n",
        "test_dataset = ImageFolder(root=f\"{dataset_dir}/test\")\n",
        "\n",
        "print(\"train_dataset:\", len(train_dataset))\n",
        "print(\"test_dataset:\", len(test_dataset))"
      ],
      "execution_count": null,
      "outputs": []
    },
    {
      "cell_type": "markdown",
      "metadata": {
        "id": "u8OayzBvALpq"
      },
      "source": [
        "train_datasetからいくつか画像を表示して確認してみましょう。"
      ]
    },
    {
      "cell_type": "code",
      "metadata": {
        "id": "XkmR6hx-lhht"
      },
      "source": [
        "plt.figure(figsize=(10, 10))\n",
        "\n",
        "for i in range(15):\n",
        "    image, label = train_dataset[random.randint(0, len(train_dataset))]\n",
        "    plt.subplot(3, 5, i+1)\n",
        "    plt.imshow(image)\n",
        "    plt.title(f\"label {label}\") \n",
        "    plt.axis(\"off\")"
      ],
      "execution_count": null,
      "outputs": []
    },
    {
      "cell_type": "markdown",
      "metadata": {
        "id": "a7Vh_EjnAbDC"
      },
      "source": [
        "ラベルの番号とうどん屋の名前（フォルダ名）の関係は次のようになっています。"
      ]
    },
    {
      "cell_type": "code",
      "source": [
        "classnames = {value: key[4:] for key, value in train_dataset.class_to_idx.items()}\n",
        "classnames"
      ],
      "metadata": {
        "id": "6ttDrky7tajX"
      },
      "execution_count": null,
      "outputs": []
    },
    {
      "cell_type": "markdown",
      "metadata": {
        "id": "XsL34TdlVp-N"
      },
      "source": [
        "AIのモデルに画像を入力するためにはすべての画像が同じサイズでなければなりません。\n",
        "そこで再度サイズを指定してDatasetオブジェクトを作ります。"
      ]
    },
    {
      "cell_type": "code",
      "metadata": {
        "id": "5fgHGFOkXWqO"
      },
      "source": [
        "from torchvision import transforms\n",
        "\n",
        "img_size = (128, 128)\n",
        "\n",
        "train_dataset = ImageFolder(root=f\"{dataset_dir}/train\",\n",
        "                            transform=transforms.Compose([\n",
        "                                transforms.Resize(img_size),\n",
        "                                transforms.ToTensor()\n",
        "                                ])\n",
        "                            )\n",
        "\n",
        "test_dataset = ImageFolder(root=f\"{dataset_dir}/test\",\n",
        "                           transform=transforms.Compose([\n",
        "                                transforms.Resize(img_size),\n",
        "                                transforms.ToTensor()\n",
        "                                ])\n",
        "                           )"
      ],
      "execution_count": null,
      "outputs": []
    },
    {
      "cell_type": "markdown",
      "metadata": {
        "id": "QbtVWATjWekE"
      },
      "source": [
        "### データの分離/Train Test Split\n",
        "一般的に学習用データ(train_dataset)はそのすべて学習に使用するのではなく，その一部を学習途中の検証用データ(valid_dataset)として使用します。"
      ]
    },
    {
      "cell_type": "markdown",
      "source": [
        "![image.png](data:image/png;base64,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)"
      ],
      "metadata": {
        "id": "mZHlM4H9s4zb"
      }
    },
    {
      "cell_type": "code",
      "metadata": {
        "id": "g2UH3rN5XdFf"
      },
      "source": [
        "from torch.utils.data import random_split\n",
        "\n",
        "n_samples = len(train_dataset)\n",
        "train_size = int(n_samples * 0.8)    # 80% will be training data\n",
        "valid_size = n_samples - train_size  # 20% will be validation data\n",
        "\n",
        "train_dataset, valid_dataset = random_split(train_dataset, [train_size, valid_size])\n",
        "\n",
        "print(\"train data\", len(train_dataset))\n",
        "print(\"validation data\", len(valid_dataset))"
      ],
      "execution_count": null,
      "outputs": []
    },
    {
      "cell_type": "markdown",
      "metadata": {
        "id": "qmaAJzuZaDTz"
      },
      "source": [
        "### DataLoaderオブジェクトの作成/Create DataLoader Objects\n",
        "\n",
        "AIモデルにデータを入力するためのDataLoaderオブジェクトを作ります。"
      ]
    },
    {
      "cell_type": "code",
      "metadata": {
        "id": "oBhdXTsSXeze"
      },
      "source": [
        "from torch.utils.data import DataLoader\n",
        "\n",
        "train_loader = DataLoader(train_dataset, batch_size=50, shuffle=True, num_workers=2)\n",
        "valid_loader = DataLoader(valid_dataset, batch_size=50, shuffle=False, num_workers=2)\n",
        "test_loader = DataLoader(test_dataset, batch_size=50, shuffle=False, num_workers=2)"
      ],
      "execution_count": null,
      "outputs": []
    },
    {
      "cell_type": "markdown",
      "metadata": {
        "id": "QhtajLTTNmSx"
      },
      "source": [
        "## AIモデルの作成/Build AI Models"
      ]
    },
    {
      "cell_type": "markdown",
      "metadata": {
        "id": "xrHtrmLj65gs"
      },
      "source": [
        "### VGG16"
      ]
    },
    {
      "cell_type": "code",
      "source": [
        "import torch.nn as nn\n",
        "import torchvision.models as models\n",
        "\n",
        "def create_vgg16(outputs=10, freeze=False):\n",
        "    \n",
        "    # 事前学習モデルの読み込み\n",
        "    model = models.vgg16(pretrained=True)\n",
        "\n",
        "    # パラメータのフリーズ\n",
        "    if freeze:\n",
        "        for param in model.parameters():\n",
        "            param.requires_grad = False  \n",
        "    \n",
        "    # 出力層の付け替え\n",
        "    num_ftrs = model.classifier[6].in_features\n",
        "    model.classifier[6] = nn.Linear(num_ftrs, outputs)   # replace the last layer\n",
        "\n",
        "    return model\n",
        "\n",
        "model = create_vgg16(outputs=len(classnames), freeze=False)\n",
        "print(model)"
      ],
      "metadata": {
        "id": "lVgsIX0Luu25"
      },
      "execution_count": null,
      "outputs": []
    },
    {
      "cell_type": "markdown",
      "source": [
        "### ResNet50"
      ],
      "metadata": {
        "id": "IjX5RYUjr8z9"
      }
    },
    {
      "cell_type": "code",
      "source": [
        "def create_resnet50(outputs=10, freeze=False):\n",
        "    \n",
        "    # 事前学習モデルの読み込み\n",
        "    model = models.resnet50(pretrained=True)\n",
        "    \n",
        "    # パラメータのフリーズ\n",
        "    if freeze:\n",
        "        for param in model.parameters():\n",
        "            param.requires_grad = False   \n",
        "\n",
        "    # 出力層の付け替え\n",
        "    num_ftrs = model.fc.in_features\n",
        "    model.fc = torch.nn.Linear(num_ftrs, outputs)\n",
        "    \n",
        "    return model\n",
        "\n",
        "model = create_resnet50(outputs=len(classnames), freeze=False)\n",
        "print(model)"
      ],
      "metadata": {
        "id": "eSI05p8ZoYhB"
      },
      "execution_count": null,
      "outputs": []
    },
    {
      "cell_type": "markdown",
      "source": [
        "### EfficentNet B0"
      ],
      "metadata": {
        "id": "0rsfkRgG26Ky"
      }
    },
    {
      "cell_type": "code",
      "source": [
        "def create_efficientnetB0(outputs=10, freeze=False):\n",
        "    \n",
        "    # 事前学習モデルの読み込み\n",
        "    model = models.efficientnet_b0(pretrained=True)\n",
        "    \n",
        "    # パラメータのフリーズ\n",
        "    if freeze:\n",
        "        for param in model.parameters():\n",
        "            param.requires_grad = False   \n",
        "\n",
        "    # 出力層の付け替え\n",
        "    num_ftrs = model.classifier[1].in_features\n",
        "    model.classifier[1] = torch.nn.Linear(num_ftrs, 10)\n",
        "    \n",
        "    return model\n",
        "\n",
        "model = create_efficientnetB0(outputs=len(classnames), freeze=False)\n",
        "print(model)"
      ],
      "metadata": {
        "id": "UtJGp5xX1_b3"
      },
      "execution_count": null,
      "outputs": []
    },
    {
      "cell_type": "markdown",
      "metadata": {
        "id": "aAlXGXFDRsjw"
      },
      "source": [
        "## AIモデルの学習/AI Model Training"
      ]
    },
    {
      "cell_type": "markdown",
      "metadata": {
        "id": "tXO7oPT_PKN4"
      },
      "source": [
        "### 損失関数/Loss Function\n",
        "AIモデルの推論結果がどの程度間違っているかを評価するための損失関数を定義します。"
      ]
    },
    {
      "cell_type": "code",
      "metadata": {
        "id": "lU5T3gRuUHtQ"
      },
      "source": [
        "loss_func = nn.CrossEntropyLoss()"
      ],
      "execution_count": null,
      "outputs": []
    },
    {
      "cell_type": "markdown",
      "metadata": {
        "id": "52Qod7jdQusX"
      },
      "source": [
        "### 最適化関数/Optimizer\n",
        "AIモデルのパラメータを更新するためのアルゴリズム最適化関数を定義します。"
      ]
    },
    {
      "cell_type": "code",
      "metadata": {
        "id": "wZWtxHVoUL44"
      },
      "source": [
        "import torch.optim as optim\n",
        "\n",
        "optimizer = optim.Adam(model.parameters(), lr=1E-3)"
      ],
      "execution_count": null,
      "outputs": []
    },
    {
      "cell_type": "markdown",
      "metadata": {
        "id": "MCzH5589Rn-7"
      },
      "source": [
        "### 学習ループ/Training Loop\n",
        "\n",
        "\n",
        "\n",
        "\n",
        "\n"
      ]
    },
    {
      "cell_type": "code",
      "metadata": {
        "id": "B9ONh4giaSQD"
      },
      "source": [
        "model = create_vgg16(outputs=len(classnames), freeze=True)\n",
        "#model = create_resnet50(outputs=len(classnames), freeze=True)\n",
        "#model = create_efficientnetB0(outputs=len(classnames), freeze=False)\n",
        "\n",
        "\n",
        "model = model.to(device)\n",
        "optimizer = optim.Adam(model.parameters(), lr=1E-3)    # set optimizer\n",
        "epochs = 5\n",
        "\n",
        "# create empty lists for saving metrics during training\n",
        "train_loss_list = []\n",
        "train_accuracy_list = []\n",
        "valid_loss_list = []\n",
        "valid_accuracy_list = []\n",
        "\n",
        "for epoch in range(epochs):\n",
        "\n",
        "    print(f\"Epoch {epoch+1}/{epochs}\")\n",
        "\n",
        "    # initialize metrics value\n",
        "    train_correct_count = 0\n",
        "    train_accuracy = 0\n",
        "    train_loss = 0\n",
        "    valid_correct_count = 0\n",
        "    valid_accuracy = 0\n",
        "    valid_loss = 0\n",
        "\n",
        "    #--- Training Phase ---#\n",
        "    model.train()    # set model to training mode\n",
        "\n",
        "    pbar = tqdm(train_loader)\n",
        "    pbar.set_description(\"Train\")\n",
        "\n",
        "    for x_batch, y_batch in pbar:      # take mini batch data from train_loader\n",
        "        \n",
        "        x_batch = x_batch.to(device)     # load x_batch data on GPU\n",
        "        y_batch = y_batch.to(device)     # load y_batch data on GPU\n",
        "    \n",
        "        optimizer.zero_grad()                  # reset gradients to 0\n",
        "        p_batch = model(x_batch)               # do prediction\n",
        "        loss = loss_func(p_batch, y_batch)     # measure loss\n",
        "        loss.backward()                        # calculate gradients\n",
        "        optimizer.step()                       # update model parameters\n",
        "\n",
        "        train_loss += loss.item()                                # accumulate loss value\n",
        "        p_batch_label = torch.argmax(p_batch, dim=1)             # convert p_batch vector to p_batch_label\n",
        "        train_correct_count += (p_batch_label == y_batch).sum()  # count up number of correct predictions\n",
        "\n",
        "        pbar.set_postfix({\"accuracy\":f\"{(p_batch_label == y_batch).sum()/len(x_batch):.4f}\", \"loss\": f\"{loss.item():.4f}\"})\n",
        "    #----------------------#\n",
        "\n",
        "    #--- Evaluation Phase ---#\n",
        "    with torch.no_grad():   # disable autograd for saving memory usage\n",
        "        model.eval()        # set model to evaluation mode\n",
        "\n",
        "        pbar = tqdm(valid_loader)\n",
        "        pbar.set_description(\"Valid\") \n",
        "\n",
        "        for x_batch, y_batch in pbar:   # take mini batch data from test_loader\n",
        "\n",
        "            x_batch = x_batch.to(device)     # load x_batch data on GPU\n",
        "            y_batch = y_batch.to(device)     # load y_batch data on GPU\n",
        "\n",
        "            p_batch = model(x_batch)              # do prediction\n",
        "            loss = loss_func(p_batch, y_batch)    # measure loss\n",
        "\n",
        "            valid_loss += loss.item()                                # accumulate loss value\n",
        "            p_batch_label = torch.argmax(p_batch, dim=1)            # convert p_batch vector to p_batch_label\n",
        "            valid_correct_count += (p_batch_label == y_batch).sum()  # count up number of correct predictions\n",
        "\n",
        "            pbar.set_postfix({\"accuracy\":f\"{(p_batch_label == y_batch).sum()/len(x_batch):.4f}\", \"loss\": f\"{loss.item():.4f}\"})\n",
        "    #------------------------#\n",
        "\n",
        "    train_accuracy = train_correct_count.item()/len(train_dataset)   # determine accuracy for training data\n",
        "    valid_accuracy = valid_correct_count.item()/len(valid_dataset)   # determin accuracy for test data\n",
        "    train_loss = train_loss/len(train_loader)       # determin loss for training data\n",
        "    valid_loss = valid_loss/len(valid_loader)       # determin loss for validation data \n",
        "\n",
        "    # show and store metrics\n",
        "    print(f\"Train: Accuracy={train_accuracy:.3f} Loss={train_loss:.3f}, Valid: Accuracy={valid_accuracy:.3f} Loss={valid_loss:.3f}\")\n",
        "    train_accuracy_list.append(train_accuracy)\n",
        "    train_loss_list.append(train_loss)\n",
        "    valid_accuracy_list.append(valid_accuracy)\n",
        "    valid_loss_list.append(valid_loss)\n",
        "    \n",
        "    print(\"---------------------\")"
      ],
      "execution_count": null,
      "outputs": []
    },
    {
      "cell_type": "markdown",
      "metadata": {
        "id": "77tsvYTj_MjF"
      },
      "source": [
        "### 学習曲線/Learning Curves\n",
        "\n",
        "正解率と損失がどのように変化したかを可視化してみてみましょう。"
      ]
    },
    {
      "cell_type": "code",
      "metadata": {
        "id": "r41u3qmIig-t"
      },
      "source": [
        "plt.figure(figsize=(5,5))\n",
        "plt.rcParams[\"font.size\"]=12\n",
        "\n",
        "plt.subplot(2,1,1)\n",
        "plt.plot(np.arange(epochs)+1, train_accuracy_list, label=\"train\")\n",
        "plt.plot(np.arange(epochs)+1, valid_accuracy_list, label=\"valid\")\n",
        "plt.ylabel(\"Accuracy\")\n",
        "plt.grid()\n",
        "plt.legend()\n",
        "\n",
        "plt.subplot(2,1,2)\n",
        "plt.plot(np.arange(epochs)+1, train_loss_list, label=\"train\")\n",
        "plt.plot(np.arange(epochs)+1, valid_loss_list, label=\"valid\")\n",
        "plt.xlabel(\"Epoch\")\n",
        "plt.ylabel(\"Loss\")\n",
        "plt.grid()\n",
        "plt.legend()\n",
        "\n",
        "plt.tight_layout()"
      ],
      "execution_count": null,
      "outputs": []
    },
    {
      "cell_type": "markdown",
      "metadata": {
        "id": "JXu1FpcD6fod"
      },
      "source": [
        "## 学習済みAIモデルの評価/Evaluation of Trained AI Model"
      ]
    },
    {
      "cell_type": "markdown",
      "source": [
        "### テストデータに対する正解率"
      ],
      "metadata": {
        "id": "67De-MeOxrIp"
      }
    },
    {
      "cell_type": "code",
      "source": [
        "test_correct_count = 0\n",
        "\n",
        "y_test_all = np.array([])\n",
        "p_label_all = np.array([])\n",
        "\n",
        "with torch.no_grad():   # disable autograd for saving memory usage\n",
        "    model.eval()        # set model to evaluation mode\n",
        "\n",
        "    for x_batch, y_batch in test_loader:      # take mini batch data from test_loader \n",
        "\n",
        "        x_batch = x_batch.to(device)     # load x_batch data on GPU\n",
        "        y_batch = y_batch.to(device)     # load y_batch data on GPU\n",
        "\n",
        "        p_batch = model(x_batch)              # do prediction\n",
        "\n",
        "        p_batch_label = torch.argmax(p_batch, dim=1)            # convert p_batch vector to p_batch_label\n",
        "        test_correct_count += (p_batch_label == y_batch).sum()  # count up number of correct predictions\n",
        "\n",
        "        y_test_all = np.append(y_test_all, y_batch.cpu().numpy())          # append y_batch in y_test_all\n",
        "        p_label_all = np.append(p_label_all, p_batch_label.cpu().numpy())  # append p_batch_label in p_label_all\n",
        "\n",
        "test_accuracy = test_correct_count/len(test_dataset)      # determine accuracy for test data\n",
        "print(f\"Test Accuracy = {test_accuracy:.3f}\")"
      ],
      "metadata": {
        "id": "m_gswy8KwkC3"
      },
      "execution_count": null,
      "outputs": []
    },
    {
      "cell_type": "markdown",
      "source": [
        "### 混同行列/Confusion Matrix"
      ],
      "metadata": {
        "id": "nTkfDZqQy3kx"
      }
    },
    {
      "cell_type": "code",
      "source": [
        "from sklearn.metrics import confusion_matrix\n",
        "\n",
        "cmx = confusion_matrix(y_test_all, p_label_all)\n",
        "\n",
        "cmx_pct = np.zeros(cmx.shape)\n",
        "\n",
        "for i in range(cmx.shape[0]):\n",
        "    for j in range(cmx.shape[1]):\n",
        "        cmx_pct[i, j] = cmx[i, j]/cmx[i, :].sum()\n",
        "\n",
        "plt.figure(figsize=(7,6))\n",
        "labels = list(classnames.values())\n",
        "\n",
        "sns.heatmap(cmx_pct, annot=True, fmt=\".2f\", cmap=\"Blues\", vmin=0, vmax=1,\n",
        "            xticklabels=labels, yticklabels=labels, square=True)\n",
        "\n",
        "plt.ylabel(\"Ground Truth\")\n",
        "plt.xlabel(\"Prediction\")\n",
        "plt.title(\"confusion matrix\")"
      ],
      "metadata": {
        "id": "cZYuyvpex1xJ"
      },
      "execution_count": null,
      "outputs": []
    },
    {
      "cell_type": "markdown",
      "source": [
        "## AIモデルの実装/Deploy AI Model\n",
        "1枚の画像を学習済みAIモデルに入力し推論できるようにしましょう。"
      ],
      "metadata": {
        "id": "xlujX4mB4-IG"
      }
    },
    {
      "cell_type": "code",
      "source": [
        "## 前処理の関数など\n",
        "def preprocess(img):\n",
        "    x = img.resize((96, 96))\n",
        "    x = np.array(x)/255\n",
        "    x = x.transpose((2, 0, 1))\n",
        "    x = torch.tensor(x, dtype=torch.float32)\n",
        "    x = x.to(device)\n",
        "    x = x[None, ...]\n",
        "    return x\n",
        "\n",
        "softmax = nn.Softmax(dim=0)"
      ],
      "metadata": {
        "id": "M1ZPvJRh2cwa"
      },
      "execution_count": null,
      "outputs": []
    },
    {
      "cell_type": "code",
      "source": [
        "from PIL import Image\n",
        "\n",
        "filepath = \"/content/udon_dataset_20/test/000_suzaki-shokuryohinten_mitoyo/640x640_rect_101543878.jpg\"\n",
        "img = Image.open(filepath)\n",
        "plt.imshow(img)\n",
        "\n",
        "\n",
        "with torch.no_grad():\n",
        "    model.eval()\n",
        "    model = model.to(device)\n",
        "    \n",
        "    x = preprocess(img)\n",
        "    y = model(x)[0]\n",
        "    probs = softmax(y)\n",
        "    probs = probs.cpu().numpy()\n",
        "    idx = np.argmax(probs)\n",
        "    probability = probs[idx].item()\n",
        "    prediction = classnames[idx]\n",
        "\n",
        "print(\"--------------\")\n",
        "print(f\"Prediction Index: {idx}\")\n",
        "print(f\"Prediction Label: {prediction}\")\n",
        "print(f\"Probability: {probability:.2%}\")\n",
        "\n",
        "print(\"--------------\")\n",
        "for key, value in classnames.items():\n",
        "    print(value, f\"{probs[key]:.2%}\")"
      ],
      "metadata": {
        "id": "T7audQhJ2xyO"
      },
      "execution_count": null,
      "outputs": []
    }
  ]
}